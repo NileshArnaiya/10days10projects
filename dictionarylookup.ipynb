{
 "cells": [
  {
   "cell_type": "code",
   "execution_count": null,
   "metadata": {},
   "outputs": [],
   "source": [
    "import json\n",
    "from difflib import get_close_matches\n",
    "data = json.load(open(\"data.json\"))\n",
    "\n",
    "def translate(w):\n",
    "    w = w.lower()\n",
    "    if w in data:\n",
    "        return data[w]\n",
    "    elif w.title() in data:\n",
    "        return data[w.title()]\n",
    "    elif w.upper() in data: #in case user enters words like USA or NATO\n",
    "        return data[w.upper()]\n",
    "    elif len(get_close_matches(w,data.keys()))>0:\n",
    "        yn = input(\"Did you mean %s instead? Enter Y if Yes/ N for no \" % get_close_matches(w,data.keys())[0])\n",
    "        if yn == \"Y\":\n",
    "            return data[get_close_matches(w,data.keys())[0]]\n",
    "        elif yn == \"N\":\n",
    "            return \"Check your word again\"\n",
    "        else:\n",
    "            return \"Are you a robot?\"\n",
    "    else:\n",
    "        return \"No Exist bro\"\n",
    "\n",
    "word = input(\"Enter word: \")\n",
    "\n",
    "print(translate(word))\n"
   ]
  },
  {
   "cell_type": "code",
   "execution_count": null,
   "metadata": {},
   "outputs": [],
   "source": []
  }
 ],
 "metadata": {
  "kernelspec": {
   "display_name": "Python 3",
   "language": "python",
   "name": "python3"
  },
  "language_info": {
   "codemirror_mode": {
    "name": "ipython",
    "version": 3
   },
   "file_extension": ".py",
   "mimetype": "text/x-python",
   "name": "python",
   "nbconvert_exporter": "python",
   "pygments_lexer": "ipython3",
   "version": "3.6.4"
  }
 },
 "nbformat": 4,
 "nbformat_minor": 2
}
